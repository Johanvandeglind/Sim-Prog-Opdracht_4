{
 "cells": [
  {
   "cell_type": "code",
   "execution_count": 2,
   "id": "24cfcd3c",
   "metadata": {},
   "outputs": [],
   "source": [
    "import numpy as np\n",
    "import matplotlib.pyplot as plt\n",
    "import pandas as pd\n",
    "import ast\n",
    "from scipy.stats import norm\n",
    "import statistics\n",
    "import seaborn as sns\n",
    "from scipy import stats"
   ]
  },
  {
   "cell_type": "code",
   "execution_count": 3,
   "id": "760cb2ea",
   "metadata": {},
   "outputs": [],
   "source": [
    "df = pd.read_csv('./data_1000x200.csv')\n",
    "df = df.drop(columns=['Unnamed: 0'])\n",
    "\n",
    "#print(df)#[df['car_amount'] == 11]['datacollector'].values)\n",
    "df['datacollector'] = df['datacollector'].map(ast.literal_eval)\n",
    "df['datacollector'] = df['datacollector'].apply(lambda d: list(d.values()))"
   ]
  },
  {
   "cell_type": "code",
   "execution_count": 4,
   "id": "9d85daf3",
   "metadata": {
    "scrolled": true
   },
   "outputs": [
    {
     "data": {
      "text/plain": [
       "Index(['car_amount', 'speeding_percentage', 'maximum_speeding', 'Run',\n",
       "       'datacollector', 'height', 'width', 'brake_prob'],\n",
       "      dtype='object')"
      ]
     },
     "execution_count": 4,
     "metadata": {},
     "output_type": "execute_result"
    }
   ],
   "source": [
    "df.columns"
   ]
  },
  {
   "cell_type": "code",
   "execution_count": 5,
   "id": "1f40a858",
   "metadata": {},
   "outputs": [],
   "source": [
    "df = df[df['car_amount'] != 1]"
   ]
  },
  {
   "cell_type": "code",
   "execution_count": 6,
   "id": "d611d101",
   "metadata": {
    "scrolled": false
   },
   "outputs": [
    {
     "data": {
      "text/html": [
       "<div>\n",
       "<style scoped>\n",
       "    .dataframe tbody tr th:only-of-type {\n",
       "        vertical-align: middle;\n",
       "    }\n",
       "\n",
       "    .dataframe tbody tr th {\n",
       "        vertical-align: top;\n",
       "    }\n",
       "\n",
       "    .dataframe thead th {\n",
       "        text-align: right;\n",
       "    }\n",
       "</style>\n",
       "<table border=\"1\" class=\"dataframe\">\n",
       "  <thead>\n",
       "    <tr style=\"text-align: right;\">\n",
       "      <th></th>\n",
       "      <th>car_amount</th>\n",
       "      <th>speeding_percentage</th>\n",
       "      <th>maximum_speeding</th>\n",
       "      <th>Run</th>\n",
       "      <th>datacollector</th>\n",
       "      <th>height</th>\n",
       "      <th>width</th>\n",
       "      <th>brake_prob</th>\n",
       "    </tr>\n",
       "  </thead>\n",
       "  <tbody>\n",
       "    <tr>\n",
       "      <th>52000</th>\n",
       "      <td>5</td>\n",
       "      <td>1</td>\n",
       "      <td>1</td>\n",
       "      <td>52000</td>\n",
       "      <td>[1.4, 2.0, 3.0, 4.0, 5.0, 5.0, 4.8, 5.2, 5.0, ...</td>\n",
       "      <td>100</td>\n",
       "      <td>100</td>\n",
       "      <td>0.1</td>\n",
       "    </tr>\n",
       "    <tr>\n",
       "      <th>52001</th>\n",
       "      <td>5</td>\n",
       "      <td>1</td>\n",
       "      <td>1</td>\n",
       "      <td>52001</td>\n",
       "      <td>[1.8, 2.8, 3.8, 4.8, 5.2, 5.0, 5.2, 5.2, 5.0, ...</td>\n",
       "      <td>100</td>\n",
       "      <td>100</td>\n",
       "      <td>0.1</td>\n",
       "    </tr>\n",
       "    <tr>\n",
       "      <th>52002</th>\n",
       "      <td>5</td>\n",
       "      <td>1</td>\n",
       "      <td>1</td>\n",
       "      <td>52002</td>\n",
       "      <td>[1.8, 2.6, 3.6, 4.4, 4.4, 4.4, 4.6, 4.8, 5.2, ...</td>\n",
       "      <td>100</td>\n",
       "      <td>100</td>\n",
       "      <td>0.1</td>\n",
       "    </tr>\n",
       "    <tr>\n",
       "      <th>52003</th>\n",
       "      <td>5</td>\n",
       "      <td>1</td>\n",
       "      <td>1</td>\n",
       "      <td>52003</td>\n",
       "      <td>[2.0, 3.0, 4.0, 4.8, 5.2, 5.0, 4.8, 5.0, 5.2, ...</td>\n",
       "      <td>100</td>\n",
       "      <td>100</td>\n",
       "      <td>0.1</td>\n",
       "    </tr>\n",
       "    <tr>\n",
       "      <th>52004</th>\n",
       "      <td>5</td>\n",
       "      <td>1</td>\n",
       "      <td>1</td>\n",
       "      <td>52004</td>\n",
       "      <td>[2.0, 2.8, 3.6, 4.4, 4.8, 5.2, 5.2, 5.0, 5.0, ...</td>\n",
       "      <td>100</td>\n",
       "      <td>100</td>\n",
       "      <td>0.1</td>\n",
       "    </tr>\n",
       "  </tbody>\n",
       "</table>\n",
       "</div>"
      ],
      "text/plain": [
       "       car_amount  speeding_percentage  maximum_speeding    Run  \\\n",
       "52000           5                    1                 1  52000   \n",
       "52001           5                    1                 1  52001   \n",
       "52002           5                    1                 1  52002   \n",
       "52003           5                    1                 1  52003   \n",
       "52004           5                    1                 1  52004   \n",
       "\n",
       "                                           datacollector  height  width  \\\n",
       "52000  [1.4, 2.0, 3.0, 4.0, 5.0, 5.0, 4.8, 5.2, 5.0, ...     100    100   \n",
       "52001  [1.8, 2.8, 3.8, 4.8, 5.2, 5.0, 5.2, 5.2, 5.0, ...     100    100   \n",
       "52002  [1.8, 2.6, 3.6, 4.4, 4.4, 4.4, 4.6, 4.8, 5.2, ...     100    100   \n",
       "52003  [2.0, 3.0, 4.0, 4.8, 5.2, 5.0, 4.8, 5.0, 5.2, ...     100    100   \n",
       "52004  [2.0, 2.8, 3.6, 4.4, 4.8, 5.2, 5.2, 5.0, 5.0, ...     100    100   \n",
       "\n",
       "       brake_prob  \n",
       "52000         0.1  \n",
       "52001         0.1  \n",
       "52002         0.1  \n",
       "52003         0.1  \n",
       "52004         0.1  "
      ]
     },
     "execution_count": 6,
     "metadata": {},
     "output_type": "execute_result"
    }
   ],
   "source": [
    "df.head(5)"
   ]
  },
  {
   "cell_type": "code",
   "execution_count": 7,
   "id": "67b1964f",
   "metadata": {
    "scrolled": false
   },
   "outputs": [
    {
     "data": {
      "text/plain": [
       "200"
      ]
     },
     "execution_count": 7,
     "metadata": {},
     "output_type": "execute_result"
    }
   ],
   "source": [
    "len(df['datacollector'].iloc[1])"
   ]
  },
  {
   "cell_type": "code",
   "execution_count": 8,
   "id": "90713c90",
   "metadata": {},
   "outputs": [
    {
     "name": "stderr",
     "output_type": "stream",
     "text": [
      "/Users/johanvandeglind/opt/anaconda3/envs/simulation_programming/lib/python3.9/site-packages/seaborn/distributions.py:2619: FutureWarning: `distplot` is a deprecated function and will be removed in a future version. Please adapt your code to use either `displot` (a figure-level function with similar flexibility) or `histplot` (an axes-level function for histograms).\n",
      "  warnings.warn(msg, FutureWarning)\n"
     ]
    },
    {
     "ename": "AttributeError",
     "evalue": "'list' object has no attribute 'plot'",
     "output_type": "error",
     "traceback": [
      "\u001b[0;31m---------------------------------------------------------------------------\u001b[0m",
      "\u001b[0;31mAttributeError\u001b[0m                            Traceback (most recent call last)",
      "\u001b[0;32m/var/folders/qn/7y44qf650q54blcnbdydstmh0000gn/T/ipykernel_20930/3681035922.py\u001b[0m in \u001b[0;36m<module>\u001b[0;34m\u001b[0m\n\u001b[1;32m      4\u001b[0m \u001b[0mplt\u001b[0m\u001b[0;34m.\u001b[0m\u001b[0mxlim\u001b[0m\u001b[0;34m(\u001b[0m\u001b[0mnp\u001b[0m\u001b[0;34m.\u001b[0m\u001b[0mmin\u001b[0m\u001b[0;34m(\u001b[0m\u001b[0mstoringstijd\u001b[0m\u001b[0;34m)\u001b[0m\u001b[0;34m,\u001b[0m \u001b[0mnp\u001b[0m\u001b[0;34m.\u001b[0m\u001b[0mmax\u001b[0m\u001b[0;34m(\u001b[0m\u001b[0mstoringstijd\u001b[0m\u001b[0;34m)\u001b[0m\u001b[0;34m)\u001b[0m\u001b[0;34m\u001b[0m\u001b[0;34m\u001b[0m\u001b[0m\n\u001b[1;32m      5\u001b[0m \u001b[0msns\u001b[0m\u001b[0;34m.\u001b[0m\u001b[0mdistplot\u001b[0m\u001b[0;34m(\u001b[0m\u001b[0mstoringstijd\u001b[0m\u001b[0;34m,\u001b[0m \u001b[0mkde\u001b[0m\u001b[0;34m=\u001b[0m\u001b[0;32mTrue\u001b[0m\u001b[0;34m,\u001b[0m \u001b[0mcolor\u001b[0m\u001b[0;34m=\u001b[0m\u001b[0;34m'red'\u001b[0m\u001b[0;34m,\u001b[0m \u001b[0mbins\u001b[0m\u001b[0;34m=\u001b[0m\u001b[0;36m20\u001b[0m\u001b[0;34m)\u001b[0m\u001b[0;34m\u001b[0m\u001b[0;34m\u001b[0m\u001b[0m\n\u001b[0;32m----> 6\u001b[0;31m \u001b[0max\u001b[0m \u001b[0;34m=\u001b[0m \u001b[0mstoringstijd\u001b[0m\u001b[0;34m.\u001b[0m\u001b[0mplot\u001b[0m\u001b[0;34m.\u001b[0m\u001b[0mkde\u001b[0m\u001b[0;34m(\u001b[0m\u001b[0;34m)\u001b[0m\u001b[0;34m\u001b[0m\u001b[0;34m\u001b[0m\u001b[0m\n\u001b[0m",
      "\u001b[0;31mAttributeError\u001b[0m: 'list' object has no attribute 'plot'"
     ]
    },
    {
     "data": {
      "image/png": "[encoded data removed]",
      "text/plain": [
       "<Figure size 1152x432 with 1 Axes>"
      ]
     },
     "metadata": {
      "needs_background": "light"
     },
     "output_type": "display_data"
    }
   ],
   "source": [
    "storingstijd = df['datacollector'].iloc[1]\n",
    "plt.figure(figsize=(16, 6))\n",
    "plt.title(label=\"Histogram storingstijd\")\n",
    "plt.xlim(np.min(storingstijd), np.max(storingstijd))\n",
    "sns.distplot(storingstijd, kde=True, color='red', bins=20)                      \n",
    "ax = storingstijd.plot.kde()"
   ]
  },
  {
   "cell_type": "code",
   "execution_count": 150,
   "id": "a6a94a69",
   "metadata": {},
   "outputs": [],
   "source": [
    "df_tmp = df.copy()\n",
    "df_tmp.drop(columns=['height','width','brake_prob'],inplace=True)\n",
    "df_tmp['datacollector'] = df_tmp['datacollector'].apply(lambda d: d[25:])"
   ]
  },
  {
   "cell_type": "code",
   "execution_count": 63,
   "id": "06b0db96",
   "metadata": {
    "scrolled": true
   },
   "outputs": [],
   "source": [
    "# (df_tmp[(df_tmp['car_amount'] == 15)&\\\n",
    "#     (df_tmp['speeding_percentage'] == 5)&\\\n",
    "#     (df_tmp['maximum_speeding'] == 1)]['datacollector'].values)"
   ]
  },
  {
   "cell_type": "code",
   "execution_count": 151,
   "id": "724f876a",
   "metadata": {},
   "outputs": [],
   "source": [
    "groups = df_tmp.groupby(['car_amount','speeding_percentage','maximum_speeding'])"
   ]
  },
  {
   "cell_type": "code",
   "execution_count": 152,
   "id": "06db7d52",
   "metadata": {
    "scrolled": true
   },
   "outputs": [],
   "source": [
    "means = {}\n",
    "for group in groups:\n",
    "    arr =list(group[1]['datacollector'].values)\n",
    "    means[group[0]]=np.mean(arr, axis = 0)\n"
   ]
  },
  {
   "cell_type": "code",
   "execution_count": 166,
   "id": "e7b3fffd",
   "metadata": {},
   "outputs": [],
   "source": [
    "# df_means = pd.DataFrame()\n",
    "# for group in groups:\n",
    "#     df_means['car_amount'] = group[0][0]\n",
    "#     df_means['speeding_percentage'] = group[0][1]\n",
    "#     df_means['maximum_speeding'] = group[0][2]\n",
    "#     arr =list(group[1]['datacollector'].values)\n",
    "#     df_means['means'][df] = list(np.mean(arr, axis = 0))\n",
    "# print(df_means.head())"
   ]
  },
  {
   "cell_type": "code",
   "execution_count": null,
   "id": "02a6645f",
   "metadata": {},
   "outputs": [],
   "source": []
  },
  {
   "cell_type": "code",
   "execution_count": 153,
   "id": "b8ff6c4e",
   "metadata": {
    "scrolled": true
   },
   "outputs": [
    {
     "name": "stdout",
     "output_type": "stream",
     "text": [
      "(5, 1, 1) [5.1018 5.0952 5.0916 5.0964 5.09   5.0948 5.0912 5.0968 5.0972 5.0928\n",
      " 5.0984 5.084  5.095  5.0956 5.0976 5.0906 5.0962 5.0974 5.0974 5.0894\n",
      " 5.0888 5.0998 5.0966 5.091  5.085  5.0928 5.0942 5.0962 5.0988 5.0894\n",
      " 5.0978 5.1016 5.0892 5.097  5.094  5.0966 5.098  5.1004 5.099  5.0902\n",
      " 5.0942 5.1    5.0924 5.0974 5.0868 5.0944 5.1004 5.0864 5.0936 5.0972\n",
      " 5.0966 5.099  5.0944 5.0982 5.0862 5.095  5.0934 5.0974 5.0938 5.0912\n",
      " 5.0938 5.0972 5.0992 5.0906 5.106  5.0962 5.0992 5.098  5.0948 5.0938\n",
      " 5.0918 5.1018 5.0968 5.0922 5.094  5.0928 5.0978 5.0972 5.0912 5.1026\n",
      " 5.0968 5.0974 5.089  5.0874 5.0972 5.0906 5.0966 5.0978 5.0924 5.0904\n",
      " 5.0954 5.0986 5.101  5.1036 5.0962 5.0978 5.0954 5.089  5.0896 5.0922\n",
      " 5.0952 5.0898 5.0988 5.0994 5.0934 5.0952 5.1016 5.0976 5.0896 5.0898\n",
      " 5.09   5.0886 5.0972 5.1038 5.0988 5.1042 5.0984 5.0988 5.1068 5.0964\n",
      " 5.093  5.0978 5.095  5.0872 5.0844 5.0974 5.0976 5.0952 5.0908 5.0928\n",
      " 5.0988 5.088  5.0914 5.0862 5.0972 5.096  5.0844 5.092  5.0938 5.0924\n",
      " 5.0928 5.0996 5.0994 5.0986 5.0926 5.0904 5.0922 5.0918 5.095  5.0924\n",
      " 5.0964 5.0876 5.0958 5.0966 5.0912 5.097  5.0956 5.0966 5.0956 5.0928\n",
      " 5.1006 5.0976 5.0994 5.0908 5.0932 5.0938 5.0888 5.0966 5.0876 5.0948\n",
      " 5.0976 5.0978 5.091  5.0942 5.1012]\n"
     ]
    },
    {
     "data": {
      "text/plain": [
       "(15, 1, 1)"
      ]
     },
     "execution_count": 153,
     "metadata": {},
     "output_type": "execute_result"
    }
   ],
   "source": [
    "print(next(iter(means)),means[next(iter(means))])\n",
    "(15, 1, 1)"
   ]
  },
  {
   "cell_type": "code",
   "execution_count": 206,
   "id": "14090b3e",
   "metadata": {
    "scrolled": false
   },
   "outputs": [
    {
     "data": {
      "image/png": "[encoded data removed]",
      "text/plain": [
       "<Figure size 720x504 with 1 Axes>"
      ]
     },
     "metadata": {
      "needs_background": "light"
     },
     "output_type": "display_data"
    },
    {
     "data": {
      "image/png": "[encoded data removed]",
      "text/plain": [
       "<Figure size 720x504 with 1 Axes>"
      ]
     },
     "metadata": {
      "needs_background": "light"
     },
     "output_type": "display_data"
    },
    {
     "data": {
      "image/png": "[encoded data removed]",
      "text/plain": [
       "<Figure size 720x504 with 1 Axes>"
      ]
     },
     "metadata": {
      "needs_background": "light"
     },
     "output_type": "display_data"
    },
    {
     "data": {
      "image/png": "[encoded data removed]",
      "text/plain": [
       "<Figure size 720x504 with 1 Axes>"
      ]
     },
     "metadata": {
      "needs_background": "light"
     },
     "output_type": "display_data"
    }
   ],
   "source": [
    "car_amount = [10,15,30,60]\n",
    "maximum_speeding= [1,2,3,5]\n",
    "for cars in car_amount:\n",
    "    #for overspeed in maximum_speeding:\n",
    "    values = []\n",
    "    keys = []\n",
    "    for key,value in means.items():\n",
    "         if key[0] == cars and key[2] == 3:\n",
    "                values.append(value)\n",
    "                keys.append(key[1])\n",
    "    plt.figure(figsize =(10, 7))        \n",
    "    #plt.xticks(rotation = 45)\n",
    "    plt.boxplot(values, labels=keys) \n",
    "    plt.ylabel(f'mean speed')\n",
    "    plt.ylim(0,8)\n",
    "    plt.xlabel(f'percentage of speeders of {cars} cars')\n",
    "    plt.title(f'cars on the road: {cars} with max overspeed of {3}')\n",
    "    plt.show()\n",
    "\n"
   ]
  },
  {
   "cell_type": "code",
   "execution_count": 62,
   "id": "cb3c3910",
   "metadata": {
    "scrolled": false
   },
   "outputs": [
    {
     "data": {
      "image/png": "[encoded data removed]",
      "text/plain": [
       "<Figure size 720x504 with 1 Axes>"
      ]
     },
     "metadata": {
      "needs_background": "light"
     },
     "output_type": "display_data"
    }
   ],
   "source": [
    "fig = plt.figure(figsize =(10, 7))\n",
    " \n",
    "\n",
    "plt.boxplot(df_tmp[(df_tmp['car_amount'] == 15)&\\\n",
    "    (df_tmp['speeding_percentage'] == 5)&\\\n",
    "    (df_tmp['maximum_speeding'] == 1)]['datacollector'].values[0])\n",
    " \n",
    "# show plot\n",
    "plt.show()"
   ]
  },
  {
   "cell_type": "code",
   "execution_count": null,
   "id": "a22cabb0",
   "metadata": {
    "scrolled": true
   },
   "outputs": [],
   "source": [
    "df_tmp"
   ]
  },
  {
   "cell_type": "code",
   "execution_count": null,
   "id": "77e682a6",
   "metadata": {},
   "outputs": [],
   "source": [
    "#plt.show()\n",
    "def plot_list_fd(x_axis):\n",
    "    mean = statistics.mean(x_axis)\n",
    "    sd = statistics.stdev(x_axis)\n",
    "    plt.plot(x_axis, norm.pdf(x_axis, mean, sd))\n",
    "\n",
    "\n",
    "fig, axs = plt.subplots(len(df[(df['car_amount'] == 15)]['datacollector'].values),1, figsize=(20, 15), facecolor='w', edgecolor='k')\n",
    "fig.subplots_adjust(hspace = .5, wspace=.001)\n",
    "axs = axs.ravel()\n",
    "z= 0\n",
    "speed_pers = [1,5,10,15,20,25,30,35,40,45,50,55,60]\n",
    "car_amount = [1,5,10,15,30,60]\n",
    "maximum_speeding= [1,2,3,5]\n",
    "means = {}\n",
    "for cars in car_amount:\n",
    "    for max_speeding in maximum_speeding:\n",
    "        for speed in speed_pres:\n",
    "            for data in df[(df['car_amount'] == cars)&\\\n",
    "                        (df['speeding_percentage'] == speed)&\\\n",
    "                        (df['maximum_speeding'] == max_speeding)]['datacollector'].values:\n",
    "                means.append()"
   ]
  },
  {
   "cell_type": "code",
   "execution_count": null,
   "id": "056064ff",
   "metadata": {},
   "outputs": [],
   "source": [
    "z = 0\n",
    "for i in df[(df['car_amount'] == 15)&(df['speeding percentage'] == speed)]['datacollector'].values:\n",
    "    axs[z].set_title(f'speeding percentage: {speed_pers[z]}%')\n",
    "    axs[z].plot(i)\n",
    "    axs[z].set_ylim([0, 8])\n",
    "    z=z+1"
   ]
  },
  {
   "cell_type": "code",
   "execution_count": null,
   "id": "b917ad2e",
   "metadata": {},
   "outputs": [],
   "source": [
    "x =\n",
    "y =\n",
    "slope, intercept, r, p, se = linregress(x, y)"
   ]
  },
  {
   "cell_type": "code",
   "execution_count": null,
   "id": "783fc885",
   "metadata": {},
   "outputs": [],
   "source": []
  }
 ],
 "metadata": {
  "kernelspec": {
   "display_name": "Python 3 (ipykernel)",
   "language": "python",
   "name": "python3"
  },
  "language_info": {
   "codemirror_mode": {
    "name": "ipython",
    "version": 3
   },
   "file_extension": ".py",
   "mimetype": "text/x-python",
   "name": "python",
   "nbconvert_exporter": "python",
   "pygments_lexer": "ipython3",
   "version": "3.9.7"
  }
 },
 "nbformat": 4,
 "nbformat_minor": 5
}
